{
 "cells": [
  {
   "cell_type": "markdown",
   "metadata": {
    "collapsed": true
   },
   "source": [
    "# Requirements Specifications\n",
    "\n",
    "Particularly for the Archetype class.\n",
    "\n",
    "Requirements must be parsed from a string separated by ','.\n",
    "\n",
    "Examples are:\n",
    "1. Brawn Attribute Level 3\n",
    "2. Dagger Talent of 6, Virtue of -100\n",
    "3. 10 Errands Complete, Virtue of 100, Willpower of 4\n",
    "4. 5 Locations Discovered, 10 Animals in Bestiary\n",
    "5. Alchemy Ability Level 3\n",
    "6. Charisma of 7, Fame of 200"
   ]
  },
  {
   "cell_type": "code",
   "execution_count": 2,
   "metadata": {
    "collapsed": false
   },
   "outputs": [
    {
     "name": "stdout",
     "output_type": "stream",
     "text": [
      "hero.attributes.brawn.level >= 3\nThis requirement '10 Animals in Bestiary' (type 5) isn't specific enough!\n"
     ]
    },
    {
     "data": {
      "text/plain": [
       "'len(hero.journal.known_locations) >= 5'"
      ]
     },
     "execution_count": 2,
     "metadata": {},
     "output_type": "execute_result"
    }
   ],
   "source": [
    "import interfaces.requirements as inreq\n",
    "\n",
    "code = inreq.Requirement.parse_requirements(\"Brawn Attribute Level 3\")\n",
    "print(code)\n",
    "inreq.Requirement.parse_requirements(\"5 Locations Discovered, 10 Animals in Bestiary\")\n"
   ]
  },
  {
   "cell_type": "markdown",
   "metadata": {},
   "source": [
    "### Type 1 format spec. \n",
    "a.k.a the Attribute requirement spec.\n",
    "* Must contain the word Attribute.\n",
    "* Must have the attribute type as the first word.\n",
    "* Must have the level as the last word.\n",
    "\n",
    "### Type 2 spec.\n",
    "a.k.a. the Talent spec.\n",
    "* Must contain the word Talent\n",
    "* same as Spec 1\n",
    "\n",
    "### Type 3 spec.\n",
    "a.k.a. the of spec\n",
    "* Word() 'of' Integer()"
   ]
  },
  {
   "cell_type": "code",
   "execution_count": null,
   "metadata": {},
   "outputs": [],
   "source": []
  }
 ],
 "metadata": {
  "kernelspec": {
   "display_name": "Python 3",
   "language": "python",
   "name": "python3"
  },
  "language_info": {
   "codemirror_mode": {
    "name": "ipython",
    "version": 3
   },
   "file_extension": ".py",
   "mimetype": "text/x-python",
   "name": "python",
   "nbconvert_exporter": "python",
   "pygments_lexer": "ipython3",
   "version": "3.5.4"
  }
 },
 "nbformat": 4,
 "nbformat_minor": 1
}
