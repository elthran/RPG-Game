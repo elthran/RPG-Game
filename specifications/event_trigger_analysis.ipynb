{
 "cells": [
  {
   "cell_type": "markdown",
   "metadata": {},
   "source": [
    "#### CREATION PHASE, PHASE I\n",
    "_Set up the trigger._\n",
    "> quests.py"
   ]
  },
  {
   "cell_type": "code",
   "execution_count": null,
   "metadata": {},
   "outputs": [],
   "source": [
    "class QuestPath(HandlerMixin):\n",
    "\n",
    "    # The when the QuestPath is added to the Journal/Hero\n",
    "    # It is activated .. which activates the trigger of the first quest.\n",
    "    # Basically it is a 3 or 4 layer fallthrough? to the HandlerMixin?\n",
    "    def activate(self, hero):\n",
    "        \"\"\"Activate a current quest's trigger.\n",
    "\n",
    "        This is assumed to deactivate the old trigger but I haven't tested\n",
    "        this.\n",
    "        \"\"\"\n",
    "        super().activate(self.current_quest.trigger, hero)"
   ]
  },
  {
   "cell_type": "markdown",
   "metadata": {},
   "source": [
    "_Move event occurs._\n",
    "> app.py"
   ]
  },
  {
   "cell_type": "code",
   "execution_count": null,
   "metadata": {},
   "outputs": [],
   "source": [
    "def update_current_location(f):\n",
    "    @wraps(f)\n",
    "    def wrap_current_location(*args, **kwargs):\n",
    "        # some other code.\n",
    "        engine.spawn(\n",
    "            'move_event',\n",
    "            hero,\n",
    "            description=\"The {} visits {}.\".format(hero.name, location.url)\n",
    "        )\n",
    "        # some other code.\n",
    "\n",
    "@app.route('/store/<name>')\n",
    "@login_required\n",
    "@uses_hero_and_update\n",
    "@update_current_location  # spawn happens here!\n",
    "def store(name, hero=None, location=None):\n",
    "    pass"
   ]
  },
  {
   "cell_type": "markdown",
   "metadata": {},
   "source": [
    "#### BUILD PHASE, PHASE II\n",
    "_Move event is built as an object and stored for later (maybe journal)_\n",
    "> engine.py"
   ]
  },
  {
   "cell_type": "code",
   "execution_count": null,
   "metadata": {},
   "outputs": [],
   "source": [
    "def spawn(self, event_name, hero, *args, description=None):\n",
    "    event = Event(event_name, hero_id=hero.id, description=description)\n",
    "    self.db.add_object(event)"
   ]
  },
  {
   "cell_type": "markdown",
   "metadata": {},
   "source": [
    "#### TRIGGER PHASE, PHASE III\n",
    "_Test to see if any triggers are in place to handle this event. Note that the trigger must be \"pre-built\". Set all triggers with valid Conditions to 'completed'_"
   ]
  },
  {
   "cell_type": "code",
   "execution_count": null,
   "metadata": {},
   "outputs": [],
   "source": [
    "    triggers = self.db.get_all_triggers_by(event_name, hero.id)\n",
    "    for trigger in triggers:\n",
    "        trigger.evaluate()"
   ]
  },
  {
   "cell_type": "markdown",
   "metadata": {},
   "source": [
    "#### HANDLE PHASE, PHASE IV\n",
    "_This should find all database objects that have completed triggers and run any code they have that is set to run if a trigger completes. This needs some work._"
   ]
  },
  {
   "cell_type": "code",
   "execution_count": null,
   "metadata": {},
   "outputs": [],
   "source": [
    "    handlers = self.db.get_all_handlers_with_completed_triggers(hero)\n",
    "    # return the \"Blacksmith\" quest object ...\n",
    "    # Since its completion trigger is completed ...\n",
    "    # It is now completed. Run the method that you run when trigger\n",
    "    # completes.\n",
    "    for handler in handlers:\n",
    "        handler.run()"
   ]
  },
  {
   "cell_type": "markdown",
   "metadata": {},
   "source": [
    "_I am currently using a Handler parent class. To make this work you need\n",
    "2 steps:_"
   ]
  },
  {
   "cell_type": "code",
   "execution_count": null,
   "metadata": {},
   "outputs": [],
   "source": [
    "class QuestPath(HandlerMixin):\n",
    "    def run(self):\n",
    "        \"\"\"Special handler method over ride.\n",
    "\n",
    "        In this case run the local 'advance()' method.\n",
    "        \"\"\"\n",
    "        self.advance()\n",
    "        super().run(self.current_quest.trigger)"
   ]
  },
  {
   "cell_type": "markdown",
   "metadata": {},
   "source": [
    "# NOTE: Templating plays a role here too but it is too complicated to explain right now. :P"
   ]
  }
 ],
 "metadata": {},
 "nbformat": 4,
 "nbformat_minor": 2
}
