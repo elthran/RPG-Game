{
 "cells": [
  {
   "cell_type": "markdown",
   "metadata": {},
   "source": [
    "# Proficiency Specifications\n",
    "\n",
    "Any object that connects with the Proficiency shall have a *proficiencies* attribute. If it draws on other proficiencies as well it shall have a *base_proficiencies* and a *proficiency* attribute.\n",
    "\n",
    "The *proficiencies* attribute (if *base_proficiencies* exists) shall be a function that is automatically refreshed each time it is called. It will be an @property? Perhaps that isn't very efficency and it should only be refreshed before a general usage ..."
   ]
  },
  {
   "cell_type": "code",
   "execution_count": 1,
   "metadata": {},
   "outputs": [
    {
     "ename": "SyntaxError",
     "evalue": "invalid syntax (<ipython-input-1-2d8640596442>, line 1)",
     "traceback": [
      "\u001b[1;36m  File \u001b[1;32m\"<ipython-input-1-2d8640596442>\"\u001b[1;36m, line \u001b[1;32m1\u001b[0m\n\u001b[1;33m    Class Health(Proficiency):\u001b[0m\n\u001b[1;37m               ^\u001b[0m\n\u001b[1;31mSyntaxError\u001b[0m\u001b[1;31m:\u001b[0m invalid syntax\n"
     ],
     "output_type": "error"
    }
   ],
   "source": [
    "Class Health(Proficiency):\n",
    "    @property\n",
    "    def base(self):\n",
    "        return 5 + self.level  # some function based on level.\n",
    "        # The actual \"value\". Your actual health is 5 at lvl 0\n",
    "\n",
    "    @property\n",
    "    def final_value(self):\n",
    "        self.base * self.mod\n",
    "\n",
    "    def __init__(self):\n",
    "        self.level = 0  # Hidden profs don’t need a level. Non-hidden profs default at 0\n",
    "        self.hidden = False  # This is true for unmodifiable profs\n",
    "        self.mod = 1  # This is true for all profs so should just be inherited\n",
    "\n",
    "\n",
    "class Hero:\n",
    "    # Hero to Proficiency is One to Many\n",
    "    base_proficiencies = relationship(\n",
    "        \"Proficiency\",\n",
    "        collection_class=attribute_mapped_collection('name'),\n",
    "        back_populates='hero',\n",
    "        cascade=\"all, delete-orphan\")\n",
    "\n",
    "    @property\n",
    "    def proficiencies(self):\n",
    "        for prof in self.base_proficiencies:\n",
    "            sum_base = self.base\n",
    "            sum_mod = self.mod\n",
    "\n",
    "            for item in self.equipped_items:\n",
    "                sum_base += item.profs[prof.name].base\n",
    "                sum_mod += item.profs[prof.name].mod\n",
    "\n",
    "            For ability in hero.known_abilities:\n",
    "                sum_base += ability.profs[prof.name].base\n",
    "                sum_mod += ability.profs[prof.name].mod\n",
    "\n",
    "            self.summed_profs[prof.name].base = sum_base\n",
    "            self.summed_profs[prof.name].mod = sum_mod"
   ]
  },
  {
   "cell_type": "code",
   "execution_count": null,
   "metadata": {},
   "outputs": [],
   "source": []
  }
 ],
 "metadata": {},
 "nbformat": 4,
 "nbformat_minor": 2
}
